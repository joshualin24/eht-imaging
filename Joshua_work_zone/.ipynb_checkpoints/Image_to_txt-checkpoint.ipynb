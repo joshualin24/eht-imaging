{
 "cells": [
  {
   "cell_type": "code",
   "execution_count": 1,
   "metadata": {},
   "outputs": [],
   "source": [
    "\n",
    "# 2020-04-13 at Office\n",
    "import h5py\n",
    "import pandas as pd\n",
    "import numpy as np\n",
    "import matplotlib.pyplot as plt\n",
    "import scipy as sp\n",
    "import scipy.ndimage\n",
    "from scipy.ndimage import gaussian_filter\n",
    "import os, sys\n",
    "import glob"
   ]
  },
  {
   "cell_type": "code",
   "execution_count": 3,
   "metadata": {},
   "outputs": [
    {
     "name": "stdout",
     "output_type": "stream",
     "text": [
      "(160, 160, 5)\n"
     ]
    }
   ],
   "source": [
    "path = '/media/joshua/HDD_fun2/1M_library_split/val_npy/polSa+0.94dump_00001152_160.372_109.531_10_6.375e+09_9.27725e+26_8.97031_1.75016.h5.npy'\n",
    "\n",
    "pol_image = np.load(path)\n",
    "print(pol_image.shape)"
   ]
  },
  {
   "cell_type": "code",
   "execution_count": null,
   "metadata": {},
   "outputs": [],
   "source": [
    "def npy_save_txt(im, fname, mjd=False, time=False):\n",
    "    \"\"\"Save image data to text file.\n",
    "       Args:\n",
    "            fname (str): path to output text file\n",
    "            mjd (int): MJD of saved image\n",
    "            time (float): UTC time of saved image\n",
    "       Returns:\n",
    "    \"\"\"\n",
    "\n",
    "    # Transform to Stokes parameters:\n",
    "    if im.polrep!='stokes' or im.pol_prim!='I':\n",
    "        im = im.switch_polrep(polrep_out='stokes', pol_prim_out=None)\n",
    "\n",
    "    # Coordinate values\n",
    "    pdimas = im.psize/RADPERAS\n",
    "    xs = np.array([[j for j in range(im.xdim)] for i in range(im.ydim)]).reshape(im.xdim*im.ydim,1)\n",
    "    xs = pdimas * (xs[::-1] - im.xdim/2.0)\n",
    "    ys = np.array([[i for j in range(im.xdim)] for i in range(im.ydim)]).reshape(im.xdim*im.ydim,1)\n",
    "    ys = pdimas * (ys[::-1] - im.xdim/2.0)\n",
    "\n",
    "    # If V values but no Q/U values, make Q/U zero\n",
    "    if len(im.vvec) and not len(im.qvec):\n",
    "        im.qvec = 0*im.vvec\n",
    "        im.uvec = 0*im.vvec\n",
    "\n",
    "    # Format Data\n",
    "    if len(im.qvec) and len(im.vvec):\n",
    "        outdata = np.hstack((xs, ys, (im.imvec).reshape(im.xdim*im.ydim, 1),\n",
    "                                     (im.qvec).reshape(im.xdim*im.ydim, 1),\n",
    "                                     (im.uvec).reshape(im.xdim*im.ydim, 1),\n",
    "                                     (im.vvec).reshape(im.xdim*im.ydim, 1)))\n",
    "        hf = \"x (as)     y (as)       I (Jy/pixel)  Q (Jy/pixel)  U (Jy/pixel)  V (Jy/pixel)\"\n",
    "\n",
    "        fmts = \"%10.10f %10.10f %10.10f %10.10f %10.10f %10.10f\"\n",
    "\n",
    "    elif len(im.qvec):\n",
    "        outdata = np.hstack((xs, ys, (im.imvec).reshape(im.xdim*im.ydim, 1),\n",
    "                                     (im.qvec).reshape(im.xdim*im.ydim, 1),\n",
    "                                     (im.uvec).reshape(im.xdim*im.ydim, 1)))\n",
    "        hf = \"x (as)     y (as)       I (Jy/pixel)  Q (Jy/pixel)  U (Jy/pixel)\"\n",
    "\n",
    "        fmts = \"%10.10f %10.10f %10.10f %10.10f %10.10f\"\n",
    "\n",
    "    else:\n",
    "        outdata = np.hstack((xs, ys, (im.imvec).reshape(im.xdim*im.ydim, 1)))\n",
    "        hf = \"x (as)     y (as)       I (Jy/pixel)\"\n",
    "        fmts = \"%10.10f %10.10f %10.10f\"\n",
    "\n",
    "    # Header\n",
    "    if not mjd: mjd = float(im.mjd)\n",
    "    if not time: time = im.time\n",
    "    mjd += (time/24.)\n",
    "\n",
    "    head = (\"SRC: %s \\n\" % im.source +\n",
    "                \"RA: \" + rastring(im.ra) + \"\\n\" + \"DEC: \" + decstring(im.dec) + \"\\n\" +\n",
    "                \"MJD: %.6f \\n\" % (float(mjd)) +  \n",
    "                \"RF: %.4f GHz \\n\" % (im.rf/1e9) +\n",
    "                \"FOVX: %i pix %f as \\n\" % (im.xdim, pdimas * im.xdim) +\n",
    "                \"FOVY: %i pix %f as \\n\" % (im.ydim, pdimas * im.ydim) +\n",
    "                \"------------------------------------\\n\" + hf)\n",
    "\n",
    "    # Save\n",
    "    np.savetxt(fname, outdata, header=head, fmt=fmts)\n",
    "return"
   ]
  }
 ],
 "metadata": {
  "kernelspec": {
   "display_name": "Python 3",
   "language": "python",
   "name": "python3"
  },
  "language_info": {
   "codemirror_mode": {
    "name": "ipython",
    "version": 3
   },
   "file_extension": ".py",
   "mimetype": "text/x-python",
   "name": "python",
   "nbconvert_exporter": "python",
   "pygments_lexer": "ipython3",
   "version": "3.7.3"
  }
 },
 "nbformat": 4,
 "nbformat_minor": 2
}
