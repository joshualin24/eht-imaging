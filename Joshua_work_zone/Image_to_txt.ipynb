{
 "cells": [
  {
   "cell_type": "code",
   "execution_count": 34,
   "metadata": {},
   "outputs": [],
   "source": [
    "\n",
    "# 2020-04-13 at Office\n",
    "import h5py\n",
    "import pandas as pd\n",
    "import numpy as np\n",
    "import matplotlib.pyplot as plt\n",
    "import scipy as sp\n",
    "import scipy.ndimage\n",
    "from scipy.ndimage import gaussian_filter\n",
    "import os, sys\n",
    "import glob"
   ]
  },
  {
   "cell_type": "code",
   "execution_count": 35,
   "metadata": {},
   "outputs": [
    {
     "name": "stdout",
     "output_type": "stream",
     "text": [
      "(160, 160, 5)\n"
     ]
    }
   ],
   "source": [
    "path = '/media/joshua/HDD_fun2/1M_library_split/val_npy/polSa+0.94dump_00001152_160.372_109.531_10_6.375e+09_9.27725e+26_8.97031_1.75016.h5.npy'\n",
    "\n",
    "pol_image = np.load(path)\n",
    "print(pol_image.shape)"
   ]
  },
  {
   "cell_type": "code",
   "execution_count": 36,
   "metadata": {},
   "outputs": [],
   "source": [
    "def npy_save_txt(img, fname, xdim = 160, ydim = 160, source = 'M87', mjd=False, time=False):\n",
    "    \"\"\"Save image data to text file.\n",
    "       Args:\n",
    "            fname (str): path to output text file\n",
    "            mjd (int): MJD of saved image\n",
    "            time (float): UTC time of saved image\n",
    "       Returns:\n",
    "    \"\"\"\n",
    "\n",
    "    # Transform to Stokes parameters:\n",
    "\n",
    "    RA = '12 h 30 m 49.4234 s'\n",
    "\n",
    "    DEC = '12 deg 23 m 28.0437 s'\n",
    "\n",
    "    # MJD: 0.000000 \n",
    "\n",
    "    RF: 227.0707 \n",
    "\n",
    "    # FOVX: 180 pix 0.000180 as \n",
    "\n",
    "    # Coordinate values\n",
    "    pdimas = 10**(-6)#psize/RADPERAS\n",
    "    xs = np.array([[j for j in range(xdim)] for i in range(ydim)]).reshape(xdim*ydim,1)\n",
    "    xs = pdimas * (xs[::-1] - xdim/2.0)\n",
    "    ys = np.array([[i for j in range(xdim)] for i in range(ydim)]).reshape(xdim*ydim,1)\n",
    "    ys = pdimas * (ys[::-1] - xdim/2.0)\n",
    "    \n",
    "    imvec = img[:, :, 0]\n",
    "    qvec = img[:, :, 1]\n",
    "    uvec = img[:, :, 2]\n",
    "    vvec = img[:, :, 3]\n",
    "\n",
    "    # If V values but no Q/U values, make Q/U zero\n",
    "    if len(vvec) and not len(qvec):\n",
    "        qvec = 0*vvec\n",
    "        uvec = 0*vvec\n",
    "\n",
    "    # Format Data\n",
    "    if len(qvec) and len(vvec):\n",
    "        outdata = np.hstack((xs, ys, (imvec).reshape(xdim*ydim, 1),\n",
    "                                     (qvec).reshape(xdim*ydim, 1),\n",
    "                                     (uvec).reshape(xdim*ydim, 1),\n",
    "                                     (vvec).reshape(xdim*ydim, 1)))\n",
    "        hf = \"x (as)     y (as)       I (Jy/pixel)  Q (Jy/pixel)  U (Jy/pixel)  V (Jy/pixel)\"\n",
    "\n",
    "        fmts = \"%10.10f %10.10f %10.10f %10.10f %10.10f %10.10f\"\n",
    "\n",
    "    elif len(qvec):\n",
    "        outdata = np.hstack((xs, ys, (imvec).reshape(xdim*ydim, 1),\n",
    "                                     (qvec).reshape(xdim*ydim, 1),\n",
    "                                     (uvec).reshape(xdim*ydim, 1)))\n",
    "        hf = \"x (as)     y (as)       I (Jy/pixel)  Q (Jy/pixel)  U (Jy/pixel)\"\n",
    "\n",
    "        fmts = \"%10.10f %10.10f %10.10f %10.10f %10.10f\"\n",
    "\n",
    "    else:\n",
    "        outdata = np.hstack((xs, ys, (imvec).reshape(xdim*ydim, 1)))\n",
    "        hf = \"x (as)     y (as)       I (Jy/pixel)\"\n",
    "        fmts = \"%10.10f %10.10f %10.10f\"\n",
    "\n",
    "    # Header\n",
    "    if not mjd: mjd = float(mjd)\n",
    "    if not time: time = time\n",
    "    mjd += (time/24.)\n",
    "    head = \"\"\n",
    "    head = (\"SRC: %s \\n\" % source +\n",
    "                \"RA: \" + RA + \"\\n\" + \"DEC: \" + DEC + \"\\n\" +\n",
    "                \"MJD: %.6f \\n\" % (float(mjd)) +  \n",
    "                \"RF: 230.0000 GHz \\n\" +\n",
    "                \"FOVX: %i pix %f as \\n\" % (xdim, pdimas * xdim) +\n",
    "                \"FOVY: %i pix %f as \\n\" % (ydim, pdimas * ydim) +\n",
    "                \"------------------------------------\\n\" + hf)\n",
    "\n",
    "    # Save\n",
    "    np.savetxt(fname, outdata, header=head, fmt=fmts)\n",
    "    return"
   ]
  },
  {
   "cell_type": "code",
   "execution_count": 33,
   "metadata": {},
   "outputs": [],
   "source": [
    "npy_save_txt(pol_image, './text.txt')"
   ]
  },
  {
   "cell_type": "code",
   "execution_count": null,
   "metadata": {},
   "outputs": [],
   "source": []
  },
  {
   "cell_type": "code",
   "execution_count": null,
   "metadata": {},
   "outputs": [],
   "source": []
  }
 ],
 "metadata": {
  "kernelspec": {
   "display_name": "Python 3",
   "language": "python",
   "name": "python3"
  },
  "language_info": {
   "codemirror_mode": {
    "name": "ipython",
    "version": 3
   },
   "file_extension": ".py",
   "mimetype": "text/x-python",
   "name": "python",
   "nbconvert_exporter": "python",
   "pygments_lexer": "ipython3",
   "version": "3.7.3"
  }
 },
 "nbformat": 4,
 "nbformat_minor": 2
}
